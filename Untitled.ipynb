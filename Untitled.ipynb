{
 "cells": [
  {
   "cell_type": "code",
   "execution_count": 6,
   "metadata": {
    "collapsed": false
   },
   "outputs": [
    {
     "name": "stdout",
     "output_type": "stream",
     "text": [
      "Please enter the length of the cube (integer): 5\n",
      "Please enter the width of the cube (integer): 2\n",
      "Please enter the height of the cube (integer): 1\n",
      "The volume of the cube is 10\n",
      "Please enter the surface area of each side (press enter to continue)\n",
      "Please enter the surface area of the first side of the cube (integer): 3\n",
      "Please enter the surface area of the second side of the cube (integer): 5\n",
      "Please enter the surface area of the third side of the cube (integer): 1\n",
      "Please enter the surface area of the fourth side of the cube (integer): 3\n",
      "Please enter the surface area of the fifth side of the cube (integer): 5\n",
      "Please enter the surface area of the sixth side of the cube (integer): 3\n",
      "The surface area of the cube is 20\n"
     ]
    }
   ],
   "source": [
    "#This program calculates the surface area and volume of cubes\n",
    "\n",
    "#asks the user for the length of the cube\n",
    "length = int(input(\"Please enter the length of the cube (integer): \"))\n",
    "#asks the user for the width of the cube\n",
    "width = int(input(\"Please enter the width of the cube (integer): \"))\n",
    "#asks the user for the height of the cube\n",
    "height = int(input(\"Please enter the height of the cube (integer): \"))\n",
    "\n",
    "#calculate the volume\n",
    "volume = length*width*height\n",
    "\n",
    "#print out the result\n",
    "print (\"The volume of the cube is \" + str(volume))\n",
    "\n",
    "#gives the user instruction\n",
    "instruction = input(\"Please enter the surface area of each side (press enter to continue)\")\n",
    "#asks the user for the surface area of each side of the cube\n",
    "side1 = int(input(\"Please enter the surface area of the first side of the cube (integer): \"))\n",
    "side2 = int(input(\"Please enter the surface area of the second side of the cube (integer): \"))\n",
    "side3 = int(input(\"Please enter the surface area of the third side of the cube (integer): \"))\n",
    "side4 = int(input(\"Please enter the surface area of the fourth side of the cube (integer): \"))\n",
    "side5 = int(input(\"Please enter the surface area of the fifth side of the cube (integer): \"))\n",
    "side6 = int(input(\"Please enter the surface area of the sixth side of the cube (integer): \"))\n",
    "\n",
    "#calculate the area\n",
    "area = side1+side2+side3+side4+side5+side6\n",
    "\n",
    "print (\"The surface area of the cube is \" + str(area))"
   ]
  },
  {
   "cell_type": "code",
   "execution_count": 9,
   "metadata": {
    "collapsed": false
   },
   "outputs": [
    {
     "name": "stdout",
     "output_type": "stream",
     "text": [
      "Please enter the coefficient of the variable to the second power (integer): 1\n",
      "Please enter the coefficient of the variable to the first power (integer): 2\n",
      "Please enter the constant (integer): 1\n",
      "Two possible solutions for the quadratic equation are -1.0 and -1.0\n"
     ]
    }
   ],
   "source": [
    "#This program caluculates the solution of a quadratic function\n",
    "import math\n",
    "\n",
    "#asks the user for the coefficient of the variable to the second power\n",
    "aCoefficient = int(input(\"Please enter the coefficient of the variable to the second power (integer): \"))\n",
    "#asks the user for the coefficient of the variable to the first power\n",
    "bCoefficient = int(input(\"Please enter the coefficient of the variable to the first power (integer): \"))\n",
    "#asks the user for the constant\n",
    "cConstant = int(input(\"Please enter the constant (integer): \"))\n",
    "\n",
    "#calculate the solution x\n",
    "x1 = ((bCoefficient*-1)+(math.sqrt(bCoefficient*bCoefficient - 4*aCoefficient*cConstant)))/2*aCoefficient\n",
    "x2 = ((bCoefficient*-1)-(math.sqrt(bCoefficient*bCoefficient - 4*aCoefficient*cConstant)))/2*aCoefficient\n",
    "\n",
    "print(\"Two possible solutions for the quadratic equation are \" + str(x1) + \" and \" + str(x2))"
   ]
  },
  {
   "cell_type": "code",
   "execution_count": null,
   "metadata": {
    "collapsed": true
   },
   "outputs": [],
   "source": []
  }
 ],
 "metadata": {
  "kernelspec": {
   "display_name": "Python [Root]",
   "language": "python",
   "name": "Python [Root]"
  },
  "language_info": {
   "codemirror_mode": {
    "name": "ipython",
    "version": 3
   },
   "file_extension": ".py",
   "mimetype": "text/x-python",
   "name": "python",
   "nbconvert_exporter": "python",
   "pygments_lexer": "ipython3",
   "version": "3.5.2"
  }
 },
 "nbformat": 4,
 "nbformat_minor": 0
}
