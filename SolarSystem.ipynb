{
 "cells": [
  {
   "cell_type": "markdown",
   "metadata": {},
   "source": [
    "# Today's program is about the solar system\n",
    "$d=\\sqrt{(e_x - p_x)^2}$"
   ]
  },
  {
   "cell_type": "code",
   "execution_count": 8,
   "metadata": {
    "collapsed": false
   },
   "outputs": [],
   "source": [
    "#This program show the size and distance of the planets in the solar system with reference to the earth.\n",
    "import math"
   ]
  },
  {
   "cell_type": "code",
   "execution_count": 9,
   "metadata": {
    "collapsed": false
   },
   "outputs": [
    {
     "name": "stdout",
     "output_type": "stream",
     "text": [
      "Enter a planet name (Mercury, Venus, Mars, Jupiter, Saturn, Uranus, Neptune): Mars\n"
     ]
    }
   ],
   "source": [
    "#user enters the planet name\n",
    "planet = input('Enter a planet name (Mercury, Venus, Mars, Jupiter, Saturn, Uranus, Neptune): ')"
   ]
  },
  {
   "cell_type": "code",
   "execution_count": null,
   "metadata": {
    "collapsed": false
   },
   "outputs": [],
   "source": [
    "#size of planets in km\n",
    "mercurySize = 4900\n",
    "venusSize = 12100\n",
    "earthSize = 12800\n",
    "marsSize = 6800\n",
    "jupiterSize = 143000\n",
    "saturnSize = 125000\n",
    "uranusSize = 51100\n",
    "neptuneSize = 49500\n",
    "\n",
    "#each planet's distance to the sun in astronomical unit (AU)\n",
    "mercurySun = 0.387\n",
    "venusSun = 0.723\n",
    "earthSun = 1.000\n",
    "marsSun = 1.524\n",
    "jupiterSun = 5.203\n",
    "saturnSun = 9.523\n",
    "uranusSun = 19.208\n",
    "neptunesun = 20.087\n",
    "\n",
    "#assign the planet's size to the variable planetSize according to the user's input\n",
    "if planet == 'Mercury':\n",
    "    planetSize = mercurySize\n",
    "elif planet == 'Venus':\n",
    "    planetSize = venusSize\n",
    "elif planet == 'Mars':\n",
    "    planetSize = marsSize\n",
    "elif planet == 'Jupiter':\n",
    "    planetSize = jupiterSize\n",
    "elif planet == 'Saturn':\n",
    "    planetSize = saturnSize\n",
    "elif planet == 'Uranus':\n",
    "    planetSize = uranusSize\n",
    "elif planet == 'Neptune':\n",
    "    planetSize = neptuneSize\n",
    "else:\n",
    "    print('Not a planet!')\n",
    "    \n",
    "#assign the planet's distance to sign to the variable planetDistance according to the user's input\n",
    "if planet == 'Mercury':\n",
    "    planetDistance = mercurySun\n",
    "elif planet == 'Venus':\n",
    "    planetDistance = venusSun\n",
    "elif planet == 'Mars':\n",
    "    planetDistance = marsSun\n",
    "elif planet == 'Jupiter':\n",
    "    planetDistance = jupiterSun\n",
    "elif planet == 'Saturn':\n",
    "    planetDistance = saturnSun\n",
    "elif planet == 'Uranus':\n",
    "    planetDistance = uranusSun\n",
    "elif planet == 'Neptune':\n",
    "    planetDistance = neptuneSun\n",
    "    \n",
    "#calculate the distance of the planet with respect to the earth using the equation\n",
    "planetEarth = math.sqrt((earthSun - planetDistance)*(earthSun - planetDistance))"
   ]
  },
  {
   "cell_type": "code",
   "execution_count": 3,
   "metadata": {
    "collapsed": false
   },
   "outputs": [
    {
     "name": "stdout",
     "output_type": "stream",
     "text": [
      "The size of the planet is 6800km in diameter.\n",
      "The distance of Mars with respect to the earth is -0.524AU\n"
     ]
    }
   ],
   "source": [
    "#print out the result\n",
    "print('The size of the planet is ' + str(planetSize) + 'km in diameter.')\n",
    "print('The distance of ' + planet + ' with respect to the earth is ' + str(planetEarth) + 'AU')"
   ]
  },
  {
   "cell_type": "code",
   "execution_count": null,
   "metadata": {
    "collapsed": true
   },
   "outputs": [],
   "source": []
  }
 ],
 "metadata": {
  "anaconda-cloud": {},
  "kernelspec": {
   "display_name": "Python [Root]",
   "language": "python",
   "name": "Python [Root]"
  },
  "language_info": {
   "codemirror_mode": {
    "name": "ipython",
    "version": 3
   },
   "file_extension": ".py",
   "mimetype": "text/x-python",
   "name": "python",
   "nbconvert_exporter": "python",
   "pygments_lexer": "ipython3",
   "version": "3.5.2"
  }
 },
 "nbformat": 4,
 "nbformat_minor": 0
}
